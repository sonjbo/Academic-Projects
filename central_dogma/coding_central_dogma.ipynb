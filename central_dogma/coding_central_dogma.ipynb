{
 "cells": [
  {
   "cell_type": "markdown",
   "id": "a6c22f62-b050-41b7-bf9e-9019761b83b1",
   "metadata": {},
   "source": [
    "# Coding the Central Dogma"
   ]
  },
  {
   "cell_type": "markdown",
   "id": "97c7d7a0-752a-4b05-882b-ced5ac118b70",
   "metadata": {},
   "source": [
    "## 1.1 Function that finds the complementary sequence of a given DNA sequence"
   ]
  },
  {
   "cell_type": "code",
   "execution_count": 1,
   "id": "8a9c855c-398b-4cac-8ab3-603fc8a7f3f3",
   "metadata": {
    "tags": []
   },
   "outputs": [
    {
     "name": "stdout",
     "output_type": "stream",
     "text": [
      "DNA sequence: ACGTGATTCGTA \n",
      "TGCACTAAGCAT\n"
     ]
    }
   ],
   "source": [
    "def dna_complementary(seq, direction = 'same'):\n",
    "    comp_seq = '' #creating empty string for sequence\n",
    "     #added .upper() so both lower and upper case inputs work\n",
    "    for nuc in seq.upper(): #iterating through every nucleotide in the sequence\n",
    "        if nuc == 'A':\n",
    "            comp_seq +=('T') \n",
    "        elif nuc == 'T':\n",
    "            comp_seq += ('A')\n",
    "        elif nuc == 'G':\n",
    "            comp_seq += ('C')\n",
    "        elif nuc == 'C':\n",
    "            comp_seq += ('G')\n",
    "        else: #print out an error message if input contains other characters\n",
    "            return \"Value Error: 'Sequence is non-canonical'\"\n",
    "    if direction == 'reverse': #condition if user sets direction to 'reverse'\n",
    "        return comp_seq [::-1]\n",
    "    else:\n",
    "        return comp_seq\n",
    "#testing    \n",
    "seq = 'acgtgattcgta'\n",
    "print ('DNA sequence:', seq.upper(), '\\n'  + dna_complementary(seq))"
   ]
  },
  {
   "cell_type": "markdown",
   "id": "49a0f4d0-572d-4f77-89a3-2d389dad013d",
   "metadata": {},
   "source": [
    "## 1.2 Function that finds the RNA sequence of a given DNA sequence"
   ]
  },
  {
   "cell_type": "code",
   "execution_count": 2,
   "id": "3346a800-43b5-41a0-af2e-b812c6c7df42",
   "metadata": {
    "tags": []
   },
   "outputs": [
    {
     "name": "stdout",
     "output_type": "stream",
     "text": [
      "Input sequence is an RNA sequence. \n",
      "CGUGCGAGCAUU\n",
      "CGUACGAUCGAUGC\n",
      "Value Error: 'Sequence is non-canonical'\n"
     ]
    }
   ],
   "source": [
    "def dna_rna(seq):\n",
    "    #list acceptable nucleotides\n",
    "    nuc_list = ['A', 'T', 'C', 'G', 'U']\n",
    "    #initialize empty rna sequence\n",
    "    rna_seq = ''\n",
    "    #iterating through the sequence\n",
    "    for nuc in seq.upper():\n",
    "        if nuc == 'T':\n",
    "            rna_seq += ('U')\n",
    "            #check if both Us and Ts are present\n",
    "            if 'U' in seq.upper():\n",
    "                return \"Value Error: 'Sequence is non-canonical'\"\n",
    "        #rna sequence if there are Us present but no Ts\n",
    "        elif nuc == 'U' and 'T' not in seq.upper():\n",
    "            return 'Input sequence is an RNA sequence. \\n' + seq.upper()\n",
    "        #checking if nucleotide is acceptable\n",
    "        elif nuc not in nuc_list:\n",
    "            return \"Value Error: 'Sequence is non-canonical'\"\n",
    "        else:\n",
    "            rna_seq += nuc\n",
    "    return rna_seq\n",
    "\n",
    "#testing\n",
    "seq = 'cgugcgagcauu'\n",
    "print (dna_rna(seq))\n",
    "seq2 = 'CGTACGATCGATGC'\n",
    "print (dna_rna(seq2))\n",
    "seq3 = 'hello'\n",
    "print (dna_rna(seq3))"
   ]
  },
  {
   "cell_type": "markdown",
   "id": "3894c5cf-38ba-46df-aa76-91284170edda",
   "metadata": {},
   "source": [
    "## 1.3 Function that finds the amino acid sequence of a given RNA sequence"
   ]
  },
  {
   "cell_type": "code",
   "execution_count": 3,
   "id": "700233a6-c1dd-4a61-8921-63eaf5ca3f69",
   "metadata": {
    "tags": []
   },
   "outputs": [
    {
     "name": "stdout",
     "output_type": "stream",
     "text": [
      "TYALSNLIR\n",
      "Value Error: 'Sequence is non-canonical'\n"
     ]
    }
   ],
   "source": [
    "def rna_aa(seq):\n",
    "    #dictionary of codons and their associated amino acids\n",
    "    codon_dict = {'AAA': 'K', 'AAC': 'N', 'AAG': 'K', 'AAU': 'N', \n",
    "              'ACA': 'T', 'ACC': 'T', 'ACG': 'T', 'ACU': 'T', \n",
    "              'AGA': 'R', 'AGC': 'S', 'AGG': 'R', 'AGU': 'S', \n",
    "              'AUA': 'I', 'AUC': 'I', 'AUG': 'M', 'AUU': 'I', \n",
    "              'CAA': 'Q', 'CAC': 'H', 'CAG': 'Q', 'CAU': 'H', \n",
    "              'CCA': 'P', 'CCC': 'P', 'CCG': 'P', 'CCU': 'P', \n",
    "              'CGA': 'R', 'CGC': 'R', 'CGG': 'R', 'CGU': 'R', \n",
    "              'CUA': 'L', 'CUC': 'L', 'CUG': 'L', 'CUU': 'L', \n",
    "              'GAA': 'E', 'GAC': 'D', 'GAG': 'E', 'GAU': 'D', \n",
    "              'GCA': 'A', 'GCC': 'A', 'GCG': 'A', 'GCU': 'A', \n",
    "              'GGA': 'G', 'GGC': 'G', 'GGG': 'G', 'GGU': 'G', \n",
    "              'GUA': 'V', 'GUC': 'V', 'GUG': 'V', 'GUU': 'V', \n",
    "              'UAA': '*', 'UAC': 'Y', 'UAG': '*', 'UAU': 'Y', \n",
    "              'UCA': 'S', 'UCC': 'S', 'UCG': 'S', 'UCU': 'S', \n",
    "              'UGA': '*', 'UGC': 'C', 'UGG': 'W', 'UGU': 'C', \n",
    "              'UUA': 'L', 'UUC': 'F', 'UUG': 'L', 'UUU': 'F'}\n",
    "    #list of acceptbale nucleotides\n",
    "    nuc_list = ['A', 'C', 'G', 'U']\n",
    "    #initializing amino acid sequence\n",
    "    aa_seq = ''\n",
    "    upseq = seq.upper()\n",
    "    #iterating through the sequence\n",
    "    for nuc in upseq:\n",
    "        #seeing if nucleotide is valid\n",
    "        if nuc not in nuc_list:\n",
    "             return \"Value Error: 'Sequence is non-canonical'\"\n",
    "    #iterating through indeces in steps of three\n",
    "    for i in range(0, len(upseq), 3):\n",
    "        codon = upseq[i:i+3]\n",
    "        #adding codon to dictionary if length is 3\n",
    "        if len(codon) == 3:\n",
    "            aminoacid = codon_dict.get(codon)\n",
    "            #breaking the loop when stop codon is reached\n",
    "            if aminoacid == '*':\n",
    "                break\n",
    "            else:\n",
    "                aa_seq += str(aminoacid) \n",
    "    return aa_seq\n",
    "\n",
    "#testing\n",
    "seq = 'acguaugcguugaguaaccugauucga'\n",
    "print (rna_aa(seq))\n",
    "seq2 = 'ervjkhbq'\n",
    "print (rna_aa(seq2))"
   ]
  },
  {
   "cell_type": "markdown",
   "id": "71b20380-906b-4a53-adf4-f0b43a0349e3",
   "metadata": {},
   "source": [
    "## 1.4 Higher-order function that combines 1.1-1.3."
   ]
  },
  {
   "cell_type": "code",
   "execution_count": 4,
   "id": "4d88a10f-3598-4650-b87a-e35b7ec997a5",
   "metadata": {
    "tags": []
   },
   "outputs": [
    {
     "name": "stdout",
     "output_type": "stream",
     "text": [
      "AAMFGRLHGPT\n"
     ]
    }
   ],
   "source": [
    "#combining all functions in one\n",
    "def dna_aa(seq):\n",
    "    comp_seq = dna_complementary(seq, direction = 'same')\n",
    "    rna_seq = dna_rna(comp_seq)\n",
    "    aa_seq = rna_aa(rna_seq)\n",
    "    return aa_seq\n",
    "\n",
    "#tesing\n",
    "seq = 'CGTCGCTACAAACCCGCTGACGTGCCCGGATGG'\n",
    "print (dna_aa(seq))"
   ]
  },
  {
   "cell_type": "markdown",
   "id": "41f727ac-8fa6-40e1-89e0-420254fc5b71",
   "metadata": {},
   "source": [
    "## 1.5 Protein annotator"
   ]
  },
  {
   "cell_type": "code",
   "execution_count": 5,
   "id": "85c58d81-1850-47ef-810f-d17893402824",
   "metadata": {
    "tags": []
   },
   "outputs": [],
   "source": [
    "import minotaor\n",
    "from Bio.Seq import Seq\n",
    "from Bio.SeqRecord import SeqRecord\n",
    "\n",
    "#tau protein [mus musculus]\n",
    "protein = Seq(\"TSASKSRLQTAPVPMPDLKNVRSKIGSTENLKHQPGGGKVQIINKKLDLSNVQSKCGSKDNIKHVPGGGSVQIVYKPVDLSKVTSKCGSLGNIHHKPGGGQVEVKSEKLDFKDRVQSKIGSLDN\")\n",
    "protein_record = SeqRecord(protein, id=\"tau protein\", annotations={\"molecule_type\": \"protein\"})\n",
    "protein_record = minotaor.annotate_record(protein_record)  #search is case sensitive"
   ]
  },
  {
   "cell_type": "code",
   "execution_count": 6,
   "id": "f1fe9ae5-0af3-49b8-9d1d-5abd8007ea60",
   "metadata": {
    "tags": []
   },
   "outputs": [
    {
     "data": {
      "text/plain": [
       "SeqRecord(seq=Seq('TSASKSRLQTAPVPMPDLKNVRSKIGSTENLKHQPGGGKVQIINKKLDLSNVQS...LDN'), id='tau protein', name='<unknown name>', description='<unknown description>', dbxrefs=[])"
      ]
     },
     "execution_count": 6,
     "metadata": {},
     "output_type": "execute_result"
    }
   ],
   "source": [
    "protein_record"
   ]
  },
  {
   "cell_type": "code",
   "execution_count": 7,
   "id": "52ef5ec7-bb51-4c7c-b3f8-802c25c73cab",
   "metadata": {
    "scrolled": true,
    "tags": []
   },
   "outputs": [
    {
     "data": {
      "image/png": "[encoded data removed]",
      "text/plain": [
       "<Figure size 1400x220 with 1 Axes>"
      ]
     },
     "metadata": {},
     "output_type": "display_data"
    }
   ],
   "source": [
    "graphic_record = minotaor.MinotaorTranslator().translate_record(protein_record)\n",
    "ax, _ = graphic_record.plot(figure_width=14, strand_in_label_threshold=7)\n",
    "graphic_record.plot_sequence(ax)"
   ]
  },
  {
   "cell_type": "markdown",
   "id": "6bafe9c4-3188-427b-a82a-5e36eaefddd5",
   "metadata": {},
   "source": [
    "## Wrapping it all together with raw data"
   ]
  },
  {
   "cell_type": "markdown",
   "id": "7bed74b2-8ce6-47e5-a346-0be124647b17",
   "metadata": {},
   "source": [
    "### 2.1 Function that reads the fastq file and extracts all sequences that have a quality scores above Q10."
   ]
  },
  {
   "cell_type": "code",
   "execution_count": 8,
   "id": "adcb3398",
   "metadata": {},
   "outputs": [
    {
     "name": "stdout",
     "output_type": "stream",
     "text": [
      "@ERR016162.31734339 : AAGAATTTTTAAATTTCCATCTTGATTTCATTGTTGACCCCAAAATTATTCAGGAGTAGGTTATTTATTTTCCATGTATTTTCATGATTTTG\n"
     ]
    }
   ],
   "source": [
    "def extract_seqs(fasta_file_path):\n",
    "    #creating a set with scores <= Q10\n",
    "    low_scores = set('!\"#$%&\\'()*+')\n",
    "    #initializing empty dictionary\n",
    "    filtered_seqs_and_ids = {}\n",
    "    seq = None\n",
    "    seq_id = None\n",
    "\n",
    "    with open(fasta_file_path, 'rt') as file:\n",
    "        for line in file:\n",
    "            line = line.strip()\n",
    "            #identifying sequence ids\n",
    "            if line.startswith('@'):\n",
    "                #selecting the sequence id\n",
    "                seq_id = line.split(' ', 1)[0]\n",
    "                seq = None  #resetting the sequence\n",
    "            elif seq is None:\n",
    "                seq = line  #storing the sequence\n",
    "            elif line.startswith('+'):\n",
    "                scores = line.lstrip('+')\n",
    "                #checking if any character in scores is in low_scores \n",
    "                add_seq = True  #initializing a flag to add the sequence\n",
    "                for char in scores:\n",
    "                    if char in low_scores:\n",
    "                        add_seq = False  #setting the flag to not add the sequence\n",
    "                        break  \n",
    "                if add_seq:\n",
    "                    filtered_seqs_and_ids[seq_id] = seq  \n",
    "\n",
    "    return filtered_seqs_and_ids\n",
    "\n",
    "#testing the first key, value pair\n",
    "filtered_seqs_and_ids = extract_seqs('data/sample10000.fastq')\n",
    "for key, value in filtered_seqs_and_ids.items():\n",
    "    print(key, ':', value)\n",
    "    break"
   ]
  },
  {
   "cell_type": "code",
   "execution_count": 10,
   "id": "eae5e368-def6-41a6-974e-f37c86fb7ce3",
   "metadata": {},
   "outputs": [],
   "source": [
    "class Genome:\n",
    "\n",
    "    def __init__(self, filepath):\n",
    "        self.filepath = filepath\n",
    "        self.dna_seqs = None\n",
    "        self.dna_complementary_seqs = None\n",
    "        self.rna_seqs = None\n",
    "        self.aa_seqs = None\n",
    "    \n",
    "    \n",
    "    def extract_seqs(self):\n",
    "        #creating a set with scores <= Q10\n",
    "        low_scores = set('!\"#$%&\\'()*+')\n",
    "        #initializing empty dictionary\n",
    "        self.dna_seqs = {}\n",
    "        seq = None\n",
    "        seq_id = None\n",
    "        file = open(self.filepath, 'rt')\n",
    "        for line in file:\n",
    "            line = line.strip()\n",
    "            #identifying the sequence ids\n",
    "            if line.startswith('@'):\n",
    "                seq_id = line.split(' ', 1)[0]\n",
    "                seq = None  #reseting the sequence\n",
    "            elif seq is None:\n",
    "                seq = line  #storing the sequence\n",
    "            elif line.startswith('+'):\n",
    "                scores = line.lstrip('+')\n",
    "                #checking if any character is in low_scores\n",
    "                add_seq = True  #initializing a flag to add the sequence\n",
    "                for char in scores:\n",
    "                    if char in low_scores:\n",
    "                        add_seq = False  #setting the flag to not add the sequence\n",
    "                        break \n",
    "                    if add_seq:\n",
    "                        self.dna_seqs[seq_id] = seq \n",
    "\n",
    "        return self.dna_seqs\n",
    "    \n",
    "    def complementary_seqs(self, direction = 'same'):\n",
    "        #raising value error if variable is empty\n",
    "        if not self.dna_seqs:\n",
    "            raise ValueError(\"self.dna_seqs is empty\")\n",
    "            \n",
    "        #initializing empty dictionary for complementary sequences\n",
    "        self.dna_complementary_seqs = {}  \n",
    "        \n",
    "        #iterating through dictionary with DNA sequences\n",
    "        for seq_id, seq in self.dna_seqs.items():\n",
    "            comp_seq = '' \n",
    "            for nuc in seq.upper(): #iterating through every nucleotide in the sequence\n",
    "                if nuc == 'A':\n",
    "                    comp_seq +=('T') \n",
    "                elif nuc == 'T':\n",
    "                    comp_seq += ('A')\n",
    "                elif nuc == 'G':\n",
    "                    comp_seq += ('C')\n",
    "                elif nuc == 'C':\n",
    "                    comp_seq += ('G')\n",
    "            #reverse complementary sequence if direction = reverse\n",
    "            if direction == 'reverse':\n",
    "                comp_seq = comp_seq[::-1] \n",
    "                self.dna_complementary_seqs[seq_id] = comp_seq\n",
    "            #store complementary sequence in dictionary\n",
    "            else:\n",
    "                self.dna_complementary_seqs[seq_id] = comp_seq \n",
    "\n",
    "        return self.dna_complementary_seqs\n",
    "\n",
    "    def rna_seq(self):\n",
    "        #raising value error if variable is empty\n",
    "        if not self.dna_complementary_seqs:\n",
    "            raise ValueError(\"self.dna_complementary_seqs is empty\")\n",
    "        \n",
    "        #initializing empty dictionary to store rna sequences later\n",
    "        self.rna_seqs = {}\n",
    "        #list of acceptable nucleotides\n",
    "        nuc_list = ['A', 'T', 'C', 'G', 'U']\n",
    "        \n",
    "        #iterating through complementary seqences\n",
    "        for seq_id, seq in self.dna_complementary_seqs.items():\n",
    "            rna_seq = ''\n",
    "            for nuc in seq.upper():\n",
    "                if nuc == 'T':\n",
    "                    rna_seq += ('U')\n",
    "                #check if both Us and Ts are present\n",
    "                    if 'U' in seq.upper():\n",
    "                        raise ValueError(\"Value Error: 'Sequence is non-canonical'\")\n",
    "                elif nuc == 'U' and 'T' not in seq.upper():\n",
    "                    raise ValueError('Input sequence is an RNA sequence. \\n' + seq.upper())\n",
    "                elif nuc not in nuc_list:\n",
    "                    raise ValueError(\"Value Error: 'Sequence is non-canonical'\")\n",
    "                else:\n",
    "                    rna_seq += nuc\n",
    "            self.rna_seqs[seq_id] = rna_seq\n",
    "       \n",
    "        return self.rna_seq\n",
    "       \n",
    "    \n",
    "    def aa_seq(self):\n",
    "        if not self.rna_seqs:\n",
    "            raise ValueError(\"self.rna_seqs is empty\")\n",
    "        \n",
    "        #dictionary of codons and their associated amino acids\n",
    "        codon_dict = {'AAA': 'K', 'AAC': 'N', 'AAG': 'K', 'AAU': 'N', \n",
    "              'ACA': 'T', 'ACC': 'T', 'ACG': 'T', 'ACU': 'T', \n",
    "              'AGA': 'R', 'AGC': 'S', 'AGG': 'R', 'AGU': 'S', \n",
    "              'AUA': 'I', 'AUC': 'I', 'AUG': 'M', 'AUU': 'I', \n",
    "              'CAA': 'Q', 'CAC': 'H', 'CAG': 'Q', 'CAU': 'H', \n",
    "              'CCA': 'P', 'CCC': 'P', 'CCG': 'P', 'CCU': 'P', \n",
    "              'CGA': 'R', 'CGC': 'R', 'CGG': 'R', 'CGU': 'R', \n",
    "              'CUA': 'L', 'CUC': 'L', 'CUG': 'L', 'CUU': 'L', \n",
    "              'GAA': 'E', 'GAC': 'D', 'GAG': 'E', 'GAU': 'D', \n",
    "              'GCA': 'A', 'GCC': 'A', 'GCG': 'A', 'GCU': 'A', \n",
    "              'GGA': 'G', 'GGC': 'G', 'GGG': 'G', 'GGU': 'G', \n",
    "              'GUA': 'V', 'GUC': 'V', 'GUG': 'V', 'GUU': 'V', \n",
    "              'UAA': '*', 'UAC': 'Y', 'UAG': '*', 'UAU': 'Y', \n",
    "              'UCA': 'S', 'UCC': 'S', 'UCG': 'S', 'UCU': 'S', \n",
    "              'UGA': '*', 'UGC': 'C', 'UGG': 'W', 'UGU': 'C', \n",
    "              'UUA': 'L', 'UUC': 'F', 'UUG': 'L', 'UUU': 'F'}\n",
    "        \n",
    "        self.aa_seqs = {}\n",
    "        nuc_list = ['A', 'C', 'G', 'U']\n",
    "        aa_seq = ''\n",
    "        \n",
    "        for seq_id, rna_seq in self.rna_seqs.items():\n",
    "            aminoacids = []\n",
    "            codons = []\n",
    "            for nuc in rna_seq:\n",
    "                if nuc not in nuc_list:\n",
    "                    return \"Value Error: 'Sequence is non-canonical'\"\n",
    "            #splitting rna sequence into codons\n",
    "            for i in range(0, len(rna_seq), 3):\n",
    "                codon = rna_seq[i:i+3]\n",
    "                codons.append(codon)\n",
    "                for codon in codons:\n",
    "                    #checking if codon is complete\n",
    "                    if len(codon) != 3:\n",
    "                        break\n",
    "                    else:\n",
    "                        aminoacid = codon_dict.get(codon)\n",
    "                        #checking for stop codon\n",
    "                        if aminoacid == '*':\n",
    "                            break\n",
    "                        aminoacids.append(aminoacid)\n",
    "            #combine amino acids to form final sequence\n",
    "            aa_seq = ''.join(aminoacids)\n",
    "            self.aa_seqs[seq_id] = aa_seq\n",
    "\n",
    "        return self.aa_seqs\n",
    "\n",
    "    def annot_aa_plot(self, seqid):\n",
    "        import minotaor\n",
    "        from Bio.Seq import Seq\n",
    "        from Bio.SeqRecord import SeqRecord\n",
    "        \n",
    "        \n",
    "        if not self.aa_seqs:\n",
    "            raise ValueError(\"self.aa_seqs is empty\")\n",
    "\n",
    "        aa_seq = self.rna_seqs[seqid]\n",
    "        protein = Seq(aa_seq)\n",
    "        protein_record = SeqRecord(protein, id=seqid, annotations={\"molecule_type\": \"protein\"})\n",
    "        protein_record = minotaor.annotate_record(protein_record)  # Search is case sensitive\n",
    "        graphic_record = minotaor.MinotaorTranslator().translate_record(protein_record)\n",
    "        #plot the graphic record\n",
    "        ax, _ = graphic_record.plot(figure_width=14, strand_in_label_threshold=7)\n",
    "        graphic_record.plot_sequence(ax)"
   ]
  },
  {
   "cell_type": "code",
   "execution_count": 12,
   "id": "c786a395",
   "metadata": {},
   "outputs": [
    {
     "data": {
      "image/png": "[encoded data removed]",
      "text/plain": [
       "<Figure size 1400x220 with 1 Axes>"
      ]
     },
     "metadata": {},
     "output_type": "display_data"
    }
   ],
   "source": [
    "genome = Genome('data/sample10000.fastq')\n",
    "genome.extract_seqs()\n",
    "genome.complementary_seqs('reverse')\n",
    "genome.rna_seq()\n",
    "genome.aa_seq()\n",
    "#testing one example\n",
    "genome.annot_aa_plot('@ERR016162.10545860')"
   ]
  }
 ],
 "metadata": {
  "kernelspec": {
   "display_name": "Python 3 (ipykernel)",
   "language": "python",
   "name": "python3"
  },
  "language_info": {
   "codemirror_mode": {
    "name": "ipython",
    "version": 3
   },
   "file_extension": ".py",
   "mimetype": "text/x-python",
   "name": "python",
   "nbconvert_exporter": "python",
   "pygments_lexer": "ipython3",
   "version": "3.11.5"
  }
 },
 "nbformat": 4,
 "nbformat_minor": 5
}
